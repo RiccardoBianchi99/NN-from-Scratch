{
 "cells": [
  {
   "cell_type": "code",
   "execution_count": 1,
   "metadata": {},
   "outputs": [],
   "source": [
    "import numpy as np\n",
    "import pandas as pd\n",
    "import matplotlib.pyplot as plt\n",
    "import tensorflow as tf"
   ]
  },
  {
   "cell_type": "code",
   "execution_count": 2,
   "metadata": {},
   "outputs": [],
   "source": [
    "mnist = tf.keras.datasets.mnist\n",
    "(x_train_matrix, y_train), (x_test_matrix, y_test) = mnist.load_data()"
   ]
  },
  {
   "cell_type": "markdown",
   "metadata": {},
   "source": [
    "I dati sono in formato di matrice, ma noi lavoreremo con il vettore dei pixel, è quindi necessario prima appiattire tutte le matrici."
   ]
  },
  {
   "cell_type": "code",
   "execution_count": 3,
   "metadata": {},
   "outputs": [],
   "source": [
    "x_train = np.array([x_train_matrix[i].reshape(-1) for i in range(len(x_train_matrix))])\n",
    "x_test = np.array([x_test_matrix[i].reshape(-1) for i in range(len(x_test_matrix))])"
   ]
  },
  {
   "cell_type": "markdown",
   "metadata": {},
   "source": [
    "Convertire il tutto in pandas.DataFrame per visualizzare "
   ]
  },
  {
   "cell_type": "code",
   "execution_count": 4,
   "metadata": {},
   "outputs": [
    {
     "data": {
      "text/html": [
       "<div>\n",
       "<style scoped>\n",
       "    .dataframe tbody tr th:only-of-type {\n",
       "        vertical-align: middle;\n",
       "    }\n",
       "\n",
       "    .dataframe tbody tr th {\n",
       "        vertical-align: top;\n",
       "    }\n",
       "\n",
       "    .dataframe thead th {\n",
       "        text-align: right;\n",
       "    }\n",
       "</style>\n",
       "<table border=\"1\" class=\"dataframe\">\n",
       "  <thead>\n",
       "    <tr style=\"text-align: right;\">\n",
       "      <th></th>\n",
       "      <th>pixel_0</th>\n",
       "      <th>pixel_1</th>\n",
       "      <th>pixel_2</th>\n",
       "      <th>pixel_3</th>\n",
       "      <th>pixel_4</th>\n",
       "      <th>pixel_5</th>\n",
       "      <th>pixel_6</th>\n",
       "      <th>pixel_7</th>\n",
       "      <th>pixel_8</th>\n",
       "      <th>pixel_9</th>\n",
       "      <th>...</th>\n",
       "      <th>pixel_775</th>\n",
       "      <th>pixel_776</th>\n",
       "      <th>pixel_777</th>\n",
       "      <th>pixel_778</th>\n",
       "      <th>pixel_779</th>\n",
       "      <th>pixel_780</th>\n",
       "      <th>pixel_781</th>\n",
       "      <th>pixel_782</th>\n",
       "      <th>pixel_783</th>\n",
       "      <th>label</th>\n",
       "    </tr>\n",
       "  </thead>\n",
       "  <tbody>\n",
       "    <tr>\n",
       "      <th>0</th>\n",
       "      <td>0</td>\n",
       "      <td>0</td>\n",
       "      <td>0</td>\n",
       "      <td>0</td>\n",
       "      <td>0</td>\n",
       "      <td>0</td>\n",
       "      <td>0</td>\n",
       "      <td>0</td>\n",
       "      <td>0</td>\n",
       "      <td>0</td>\n",
       "      <td>...</td>\n",
       "      <td>0</td>\n",
       "      <td>0</td>\n",
       "      <td>0</td>\n",
       "      <td>0</td>\n",
       "      <td>0</td>\n",
       "      <td>0</td>\n",
       "      <td>0</td>\n",
       "      <td>0</td>\n",
       "      <td>0</td>\n",
       "      <td>5</td>\n",
       "    </tr>\n",
       "    <tr>\n",
       "      <th>1</th>\n",
       "      <td>0</td>\n",
       "      <td>0</td>\n",
       "      <td>0</td>\n",
       "      <td>0</td>\n",
       "      <td>0</td>\n",
       "      <td>0</td>\n",
       "      <td>0</td>\n",
       "      <td>0</td>\n",
       "      <td>0</td>\n",
       "      <td>0</td>\n",
       "      <td>...</td>\n",
       "      <td>0</td>\n",
       "      <td>0</td>\n",
       "      <td>0</td>\n",
       "      <td>0</td>\n",
       "      <td>0</td>\n",
       "      <td>0</td>\n",
       "      <td>0</td>\n",
       "      <td>0</td>\n",
       "      <td>0</td>\n",
       "      <td>0</td>\n",
       "    </tr>\n",
       "    <tr>\n",
       "      <th>2</th>\n",
       "      <td>0</td>\n",
       "      <td>0</td>\n",
       "      <td>0</td>\n",
       "      <td>0</td>\n",
       "      <td>0</td>\n",
       "      <td>0</td>\n",
       "      <td>0</td>\n",
       "      <td>0</td>\n",
       "      <td>0</td>\n",
       "      <td>0</td>\n",
       "      <td>...</td>\n",
       "      <td>0</td>\n",
       "      <td>0</td>\n",
       "      <td>0</td>\n",
       "      <td>0</td>\n",
       "      <td>0</td>\n",
       "      <td>0</td>\n",
       "      <td>0</td>\n",
       "      <td>0</td>\n",
       "      <td>0</td>\n",
       "      <td>4</td>\n",
       "    </tr>\n",
       "    <tr>\n",
       "      <th>3</th>\n",
       "      <td>0</td>\n",
       "      <td>0</td>\n",
       "      <td>0</td>\n",
       "      <td>0</td>\n",
       "      <td>0</td>\n",
       "      <td>0</td>\n",
       "      <td>0</td>\n",
       "      <td>0</td>\n",
       "      <td>0</td>\n",
       "      <td>0</td>\n",
       "      <td>...</td>\n",
       "      <td>0</td>\n",
       "      <td>0</td>\n",
       "      <td>0</td>\n",
       "      <td>0</td>\n",
       "      <td>0</td>\n",
       "      <td>0</td>\n",
       "      <td>0</td>\n",
       "      <td>0</td>\n",
       "      <td>0</td>\n",
       "      <td>1</td>\n",
       "    </tr>\n",
       "    <tr>\n",
       "      <th>4</th>\n",
       "      <td>0</td>\n",
       "      <td>0</td>\n",
       "      <td>0</td>\n",
       "      <td>0</td>\n",
       "      <td>0</td>\n",
       "      <td>0</td>\n",
       "      <td>0</td>\n",
       "      <td>0</td>\n",
       "      <td>0</td>\n",
       "      <td>0</td>\n",
       "      <td>...</td>\n",
       "      <td>0</td>\n",
       "      <td>0</td>\n",
       "      <td>0</td>\n",
       "      <td>0</td>\n",
       "      <td>0</td>\n",
       "      <td>0</td>\n",
       "      <td>0</td>\n",
       "      <td>0</td>\n",
       "      <td>0</td>\n",
       "      <td>9</td>\n",
       "    </tr>\n",
       "  </tbody>\n",
       "</table>\n",
       "<p>5 rows × 785 columns</p>\n",
       "</div>"
      ],
      "text/plain": [
       "   pixel_0  pixel_1  pixel_2  pixel_3  pixel_4  pixel_5  pixel_6  pixel_7  \\\n",
       "0        0        0        0        0        0        0        0        0   \n",
       "1        0        0        0        0        0        0        0        0   \n",
       "2        0        0        0        0        0        0        0        0   \n",
       "3        0        0        0        0        0        0        0        0   \n",
       "4        0        0        0        0        0        0        0        0   \n",
       "\n",
       "   pixel_8  pixel_9  ...  pixel_775  pixel_776  pixel_777  pixel_778  \\\n",
       "0        0        0  ...          0          0          0          0   \n",
       "1        0        0  ...          0          0          0          0   \n",
       "2        0        0  ...          0          0          0          0   \n",
       "3        0        0  ...          0          0          0          0   \n",
       "4        0        0  ...          0          0          0          0   \n",
       "\n",
       "   pixel_779  pixel_780  pixel_781  pixel_782  pixel_783  label  \n",
       "0          0          0          0          0          0      5  \n",
       "1          0          0          0          0          0      0  \n",
       "2          0          0          0          0          0      4  \n",
       "3          0          0          0          0          0      1  \n",
       "4          0          0          0          0          0      9  \n",
       "\n",
       "[5 rows x 785 columns]"
      ]
     },
     "execution_count": 4,
     "metadata": {},
     "output_type": "execute_result"
    }
   ],
   "source": [
    "df_x = pd.DataFrame(x_train)\n",
    "df_x['label'] = y_train\n",
    "df_x.columns = [f'pixel_{i}' for i in range(784)] + ['label']\n",
    "df_x.head()"
   ]
  },
  {
   "cell_type": "markdown",
   "metadata": {},
   "source": [
    "Unisco y_train e x_train per mischiare allo stesso modo i dati. Successivamente li divido in training e validation"
   ]
  },
  {
   "cell_type": "code",
   "execution_count": 5,
   "metadata": {},
   "outputs": [],
   "source": [
    "y_train = y_train.reshape(-1,1)\n",
    "data =  np.concatenate((y_train, x_train), axis=1)\n",
    "np.random.shuffle(data)\n",
    "\n",
    "data_val = data[0:10000].T\n",
    "Y_val = data_val[0]\n",
    "X_val = data_val[1:] / 255\n",
    "\n",
    "data_train = data[10000:].T\n",
    "Y_train = data_train[0]\n",
    "X_train = data_train[1:] /255"
   ]
  },
  {
   "cell_type": "code",
   "execution_count": 6,
   "metadata": {},
   "outputs": [],
   "source": [
    "X_test = x_test.T / 255\n",
    "Y_test = y_test.T"
   ]
  },
  {
   "cell_type": "markdown",
   "metadata": {},
   "source": [
    "Creiamo ora la funzione che verrà utilizzata per inizializzare i pesi e il bias della rete neurale"
   ]
  },
  {
   "cell_type": "markdown",
   "metadata": {},
   "source": [
    "# Visual Representation of Neural Network"
   ]
  },
  {
   "cell_type": "code",
   "execution_count": 7,
   "metadata": {},
   "outputs": [],
   "source": [
    "from draw_NN import DrawNN\n",
    "from collections import deque"
   ]
  },
  {
   "cell_type": "code",
   "execution_count": 8,
   "metadata": {},
   "outputs": [],
   "source": [
    "def ReLU(Z):\n",
    "    # This will be applied to each element of Z\n",
    "    return np.maximum(0, Z)\n",
    "\n",
    "def softmax(Z):\n",
    "    e_x = np.exp(Z - np.max(Z))\n",
    "    return e_x / e_x.sum(axis=0)\n",
    "\n",
    "def one_hot(Y):\n",
    "    one_hot_Y = np.zeros((Y.size, int(Y.max() + 1)))\n",
    "    one_hot_Y[np.arange(Y.size), Y] = 1\n",
    "    one_hot_Y = one_hot_Y.T\n",
    "    return one_hot_Y\n",
    "\n",
    "def deriv_ReLU(Z):\n",
    "    return Z>0\n",
    "\n",
    "def get_predictions(A):\n",
    "    return np.argmax(A, 0)\n",
    "\n",
    "def get_accuracy(predictions, Y):\n",
    "    return np.sum(predictions == Y) / Y.size"
   ]
  },
  {
   "cell_type": "code",
   "execution_count": 9,
   "metadata": {},
   "outputs": [],
   "source": [
    "class NeuralNetwork:\n",
    "    def __init__(self, layers, size_input = 784, size_output = 10, seed = 10 ):\n",
    "        \n",
    "        if len(layers) < 2:\n",
    "            print(f'!! Insert at least TWO hidden layer in the neural network !!')\n",
    "            layers = [10, 10]\n",
    "            \n",
    "        if layers[-1] != size_output:\n",
    "            print(f'!! The size of the last layer has to be the same of the output ({size_output}) !!')\n",
    "            layers[-1] = size_output\n",
    "        \n",
    "        self.layers = layers\n",
    "        self.num_layers = len(layers)\n",
    "        self.size_input = size_input\n",
    "        self.size_output = size_output\n",
    "        \n",
    "        self.W, self.b = self.init_params(seed = seed)\n",
    "    \n",
    "    def init_params(self, seed):\n",
    "        # W1 are size (num_perceptrons, num_previous_connection)\n",
    "        W = []\n",
    "        b = []\n",
    "        np.random.seed(seed)\n",
    "        W.append( np.random.rand(self.layers[0], self.size_input) - 0.5)\n",
    "        b.append(np.random.rand(self.layers[0], 1) - 0.5)\n",
    "        \n",
    "        for i in range(self.num_layers - 1):\n",
    "            W.append( np.random.rand(self.layers[i+1], self.layers[i]) - 0.5)\n",
    "            b.append(np.random.rand(self.layers[i+1], 1) - 0.5)\n",
    "        \n",
    "        return W, b\n",
    "\n",
    "    def prediction(self, X):\n",
    "        \n",
    "        if X.ndim == 1:\n",
    "            X = X.reshape(-1, 1)\n",
    "        Z = self.W[0].dot(X) + self.b[0]\n",
    "        \n",
    "        for i in range(1,self.num_layers):\n",
    "            A = ReLU(Z)\n",
    "            if A.ndim == 1:\n",
    "                A = A.reshape(-1, 1)\n",
    "            Z = self.W[i].dot(A) + self.b[i]\n",
    "        \n",
    "        output = softmax(Z)\n",
    "        \n",
    "        return output\n",
    "\n",
    "    def forward_prop(self, X):\n",
    "        Z = []\n",
    "        A = []\n",
    "        \n",
    "        if X.ndim == 1:\n",
    "            X = X.reshape(-1, 1)\n",
    "        Z.append(self.W[0].dot(X) + self.b[0])\n",
    "        \n",
    "        for i in range(1,self.num_layers):\n",
    "            A.append(ReLU(Z[-1]))\n",
    "            if A[-1].ndim == 1:\n",
    "                A[-1] = A[-1].reshape(-1, 1)\n",
    "            Z.append(self.W[i].dot(A[-1]) + self.b[i])\n",
    "        \n",
    "        A.append(softmax(Z[-1]))\n",
    "        \n",
    "        return Z, A \n",
    "    \n",
    "    def backward_prop(self, Z, A, X, Y):\n",
    "        dW = deque()\n",
    "        db = deque()\n",
    "        m = Y.size\n",
    "        one_hot_Y = one_hot(Y)\n",
    "        \n",
    "        dZ = A[-1] - one_hot_Y\n",
    "        \n",
    "        for i in range(2,self.num_layers+1):\n",
    "            dW.appendleft(1 / m * dZ.dot(A[-i].T))\n",
    "            db.appendleft((1/ m * dZ.sum(axis=1)).reshape(-1,1))\n",
    "            dZ = self.W[-i + 1].T.dot(dZ) * deriv_ReLU(Z[-i])\n",
    "            \n",
    "        dW.appendleft(1 / m * dZ.dot(X.T))\n",
    "        db.appendleft((1/ m * dZ.sum(axis=1)).reshape(-1,1))\n",
    "        \n",
    "        return list(dW), list(db)\n",
    "    \n",
    "    def update_param(self, dW, db, alpha = 0.1):\n",
    "        \n",
    "        for i in range(self.num_layers):            \n",
    "            self.W[i]= self.W[i] - alpha * dW[i]\n",
    "            self.b[i] = self.b[i] - alpha * db[i]\n",
    "            \n",
    "    def iterate(self, X, Y, alpha = 0.1):\n",
    "        \n",
    "        Z, A = self.forward_prop(X)\n",
    "        dW, db = self.backward_prop(Z, A, X, Y)\n",
    "        self.update_param(dW, db, alpha = alpha)\n",
    "        \n",
    "        return get_accuracy(get_predictions(A[-1]), Y)\n",
    "        \n",
    "    def training_gradient_descent(self, X, Y, X_val, Y_val, iterations = 100, alpha = 0.1):\n",
    "        accuracy = []\n",
    "        val_accuracy = []\n",
    "        stop_warnings = 0\n",
    "        \n",
    "        W_final = self.W\n",
    "        b_final = self.b\n",
    "        final_version = 0\n",
    "        for i in range(iterations):\n",
    "            result = self.iterate(X, Y, alpha = alpha)\n",
    "            \n",
    "            accuracy.append(result)\n",
    "            \n",
    "            prediction = self.prediction(X_val)\n",
    "            val_accuracy.append(get_accuracy(get_predictions(prediction), Y_val))\n",
    "            \n",
    "            if len(val_accuracy)>2 and val_accuracy[-1] < val_accuracy[-2]:\n",
    "                stop_warnings +=1\n",
    "            else:\n",
    "                W_final = self.W\n",
    "                b_final = self.b\n",
    "                final_version = i\n",
    "                stop_warnings = 0\n",
    "                \n",
    "            if stop_warnings >= 50:\n",
    "                break\n",
    "            \n",
    "            if i % 200 == 0:\n",
    "                print(f'Iteration {i}')\n",
    "                print(f'Accuracy : {accuracy[-1]}')\n",
    "        \n",
    "        plt.plot(accuracy, color='r', label='Training Accuracy')\n",
    "        plt.plot(val_accuracy, color='g', label='Validation Accuracy')\n",
    "        plt.axvline(x = final_version, color = 'b', linestyle = '--')\n",
    "        \n",
    "        plt.xlabel(\"Iteration\")\n",
    "        plt.ylabel(\"Accuracy\")\n",
    "        plt.title(\"Training and Validation comparation\")\n",
    "        \n",
    "        plt.legend()\n",
    "        \n",
    "        plt.show()\n",
    "        \n",
    "        print(f'Training finished in {i+1} iterations')       \n",
    "        print(f'Final Accuracy : {accuracy[-1]}')   \n",
    "        \n",
    "        self.W = W_final\n",
    "        self.b = b_final     \n",
    "        \n",
    "    def draw(self):\n",
    "        network = DrawNN( [1] + self.layers + [1])\n",
    "        network.draw()"
   ]
  },
  {
   "cell_type": "code",
   "execution_count": 10,
   "metadata": {},
   "outputs": [
    {
     "name": "stdout",
     "output_type": "stream",
     "text": [
      "Iteration 0\n",
      "Accuracy : 0.09344\n",
      "Iteration 200\n",
      "Accuracy : 0.78832\n",
      "Iteration 400\n",
      "Accuracy : 0.8492\n"
     ]
    },
    {
     "data": {
      "image/png": "[encoded data removed]",
      "text/plain": [
       "<Figure size 640x480 with 1 Axes>"
      ]
     },
     "metadata": {},
     "output_type": "display_data"
    },
    {
     "name": "stdout",
     "output_type": "stream",
     "text": [
      "Training finished in 500 iterations\n",
      "Final Accuracy : 0.86418\n"
     ]
    }
   ],
   "source": [
    "nn = NeuralNetwork([15,10], seed = 0)\n",
    "nn.training_gradient_descent(X_train, Y_train, X_val, Y_val, iterations= 500)"
   ]
  },
  {
   "cell_type": "code",
   "execution_count": 11,
   "metadata": {},
   "outputs": [],
   "source": [
    "def init_params(size_first_hl = 10):\n",
    "    # W1 are size (num_perceptrons, num_previous_connection)\n",
    "    np.random.seed(0)\n",
    "    W1 = np.random.rand(size_first_hl, 784) - 0.5\n",
    "    b1 = np.random.rand(size_first_hl, 1) - 0.5\n",
    "    \n",
    "    W2 = np.random.rand(10, size_first_hl) - 0.5\n",
    "    b2 = np.random.rand(10, 1) - 0.5\n",
    "    \n",
    "    return W1, b1, W2, b2"
   ]
  },
  {
   "cell_type": "code",
   "execution_count": 12,
   "metadata": {},
   "outputs": [],
   "source": [
    "def forward_prop(X, W1, b1, W2, b2):\n",
    "    if X.ndim == 1:\n",
    "        X = X.reshape(-1, 1)\n",
    "    Z1 = W1.dot(X) + b1\n",
    "    A1 = ReLU(Z1)\n",
    "    \n",
    "    if A1.ndim == 1:\n",
    "        A1 = A1.reshape(-1, 1)\n",
    "    Z2 = W2.dot(A1) + b2\n",
    "    A2 = softmax(Z2)\n",
    "    \n",
    "    return Z1, A1, Z2, A2"
   ]
  },
  {
   "cell_type": "code",
   "execution_count": 13,
   "metadata": {},
   "outputs": [],
   "source": [
    "def backward_prop(Z1, A1, Z2, A2, W1, W2, X, Y):\n",
    "    m = Y.size\n",
    "    one_hot_Y = one_hot(Y)\n",
    "    dZ2 = A2 - one_hot_Y\n",
    "    dW2 = 1 / m * dZ2.dot(A1.T)\n",
    "    db2 = 1/ m * dZ2.sum(axis=1)\n",
    "    db2 = db2.reshape(-1,1)\n",
    "    \n",
    "    dZ1 = W2.T.dot(dZ2) * deriv_ReLU(Z1)\n",
    "    dW1 = 1 / m * dZ1.dot(X.T)\n",
    "    db1 = 1/ m * dZ1.sum(axis=1)\n",
    "    db1 = db1.reshape(-1,1)\n",
    "    \n",
    "    return dW1, dW2, db1, db2"
   ]
  },
  {
   "cell_type": "code",
   "execution_count": 14,
   "metadata": {},
   "outputs": [],
   "source": [
    "def update_param(W1, b1, W2, b2, dW1, dW2, db1, db2, alpha = 0.5):\n",
    "    W1 = W1 - alpha * dW1\n",
    "    b1 = b1 - alpha * db1\n",
    "    \n",
    "    W2 = W2 - alpha * dW2\n",
    "    b2 = b2 - alpha * db2\n",
    "    \n",
    "    return W1, b1, W2, b2"
   ]
  },
  {
   "cell_type": "code",
   "execution_count": 15,
   "metadata": {},
   "outputs": [],
   "source": [
    "def gradient_descent(X, Y, X_val, Y_val, iterations = 1, alpha = 0.5, size_first_hl = 10):\n",
    "    accuracy = []\n",
    "    val_accuracy = []\n",
    "    stop_warnings = 0\n",
    "    \n",
    "    W1, b1, W2, b2 = init_params(size_first_hl = size_first_hl)\n",
    "    W1_final = W1\n",
    "    b1_final = b1\n",
    "    W2_final = W2\n",
    "    b2_final = b2\n",
    "    final_version = 0\n",
    "    for i in range(iterations):\n",
    "        Z1, A1, Z2, A2 = forward_prop(X, W1, b1, W2, b2)\n",
    "        dW1, dW2, db1, db2 = backward_prop(Z1, A1, Z2, A2, W1, W2, X, Y)\n",
    "        W1, b1, W2, b2 = update_param(W1, b1, W2, b2, dW1, dW2, db1, db2, alpha = alpha)\n",
    "        \n",
    "        accuracy.append(get_accuracy(get_predictions(A2), Y))\n",
    "        \n",
    "        Z1_val, A1_val, Z2_val, A2_val = forward_prop(X_val, W1, b1, W2, b2)\n",
    "        val_accuracy.append(get_accuracy(get_predictions(A2_val), Y_val))\n",
    "        \n",
    "        if len(val_accuracy)>2 and val_accuracy[-1] < val_accuracy[-2]:\n",
    "            stop_warnings +=1\n",
    "        else:\n",
    "            W1_final = W1\n",
    "            b1_final = b1\n",
    "            W2_final = W2\n",
    "            b2_final = b2\n",
    "            final_version = i\n",
    "            stop_warnings = 0\n",
    "            \n",
    "        if stop_warnings >= 50:\n",
    "            break\n",
    "        \n",
    "        if i % 200 == 0:\n",
    "            print(f'Iteration {i}')\n",
    "            print(f'Accuracy : {accuracy[-1]}')\n",
    "    \n",
    "    plt.plot(accuracy, color='r', label='Training Accuracy')\n",
    "    plt.plot(val_accuracy, color='g', label='Validation Accuracy')\n",
    "    plt.axvline(x = final_version, color = 'b', linestyle = '--')\n",
    "    \n",
    "    plt.xlabel(\"Iteration\")\n",
    "    plt.ylabel(\"Accuracy\")\n",
    "    plt.title(\"Training and Validation comparation\")\n",
    "    \n",
    "    plt.legend()\n",
    "    \n",
    "    plt.show()\n",
    "    \n",
    "    print(f'Training finished in {i+1} iterations')       \n",
    "    print(f'Final Accuracy : {accuracy[-1]}')        \n",
    "    \n",
    "    return W1_final, b1_final, W2_final, b2_final"
   ]
  },
  {
   "cell_type": "code",
   "execution_count": 16,
   "metadata": {},
   "outputs": [],
   "source": [
    "W1, b1, W2, b2 = init_params(size_first_hl = 15)"
   ]
  },
  {
   "cell_type": "code",
   "execution_count": null,
   "metadata": {},
   "outputs": [
    {
     "name": "stdout",
     "output_type": "stream",
     "text": [
      "Iteration 0\n",
      "Accuracy : 0.09344\n"
     ]
    }
   ],
   "source": [
    "W1, b1, W2, b2 = gradient_descent(X_train, Y_train, X_val, Y_val,iterations = 500, alpha = 0.1, size_first_hl = 15)"
   ]
  },
  {
   "cell_type": "markdown",
   "metadata": {},
   "source": [
    "## Testing"
   ]
  },
  {
   "cell_type": "code",
   "execution_count": null,
   "metadata": {},
   "outputs": [],
   "source": [
    "from sklearn.metrics import confusion_matrix\n",
    "from sklearn.metrics import ConfusionMatrixDisplay\n"
   ]
  },
  {
   "cell_type": "code",
   "execution_count": null,
   "metadata": {},
   "outputs": [
    {
     "name": "stdout",
     "output_type": "stream",
     "text": [
      "Accuracy : 0.9395\n"
     ]
    }
   ],
   "source": [
    "Z1, A1, Z2, A2 = forward_prop(X_test, W1, b1, W2, b2)\n",
    "predicted = get_predictions(A2)\n",
    "print(f'Accuracy : {get_accuracy(predicted, Y_test)}')"
   ]
  },
  {
   "cell_type": "code",
   "execution_count": null,
   "metadata": {},
   "outputs": [
    {
     "data": {
      "image/png": "[encoded data removed]",
      "text/plain": [
       "<Figure size 640x480 with 2 Axes>"
      ]
     },
     "metadata": {},
     "output_type": "display_data"
    }
   ],
   "source": [
    "conf_matrix = confusion_matrix(Y_test, predicted)\n",
    "cm_display = ConfusionMatrixDisplay(confusion_matrix = conf_matrix, display_labels = [0, 1, 2, 3, 4, 5, 6, 7, 8, 9])\n",
    "cm_display.plot()\n",
    "plt.show()"
   ]
  },
  {
   "cell_type": "markdown",
   "metadata": {},
   "source": [
    "## Show results"
   ]
  },
  {
   "cell_type": "code",
   "execution_count": null,
   "metadata": {},
   "outputs": [],
   "source": [
    "def show_results(W1, b1, W2, b2, X_test, i = -1):\n",
    "    if i <0 or i>len(X_test):\n",
    "        i = int(np.random.uniform( low = 0.0, high = len(X_test)))\n",
    "    Z1, A1, Z2, A2 = forward_prop(X_test[:,i], W1, b1, W2, b2)\n",
    "    plt.imshow(x_test_matrix[i], cmap='Greys',  interpolation='nearest')\n",
    "    plt.suptitle(f'Real value: {y_test[i]}')\n",
    "    plt.title(f'Predicted value: {np.argmax(A2)}')"
   ]
  },
  {
   "cell_type": "code",
   "execution_count": null,
   "metadata": {},
   "outputs": [
    {
     "data": {
      "image/png": "[encoded data removed]",
      "text/plain": [
       "<Figure size 640x480 with 1 Axes>"
      ]
     },
     "metadata": {},
     "output_type": "display_data"
    }
   ],
   "source": [
    "show_results(W1, b1, W2, b2, X_test)"
   ]
  },
  {
   "cell_type": "markdown",
   "metadata": {},
   "source": [
    "Next steps: \n",
    "- fare in modo che la rete neurale sia modificabile anche in lunghezza"
   ]
  }
 ],
 "metadata": {
  "kernelspec": {
   "display_name": "NN",
   "language": "python",
   "name": "python3"
  },
  "language_info": {
   "codemirror_mode": {
    "name": "ipython",
    "version": 3
   },
   "file_extension": ".py",
   "mimetype": "text/x-python",
   "name": "python",
   "nbconvert_exporter": "python",
   "pygments_lexer": "ipython3",
   "version": "3.7.4"
  }
 },
 "nbformat": 4,
 "nbformat_minor": 2
}
